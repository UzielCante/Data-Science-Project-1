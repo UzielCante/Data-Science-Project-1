{
 "cells": [
  {
   "cell_type": "markdown",
   "id": "ea074756",
   "metadata": {},
   "source": [
    "# Data-Science-Capstone-Project"
   ]
  },
  {
   "cell_type": "markdown",
   "id": "69b2b651",
   "metadata": {},
   "source": [
    "#### Uziel Azael Cante Uicab"
   ]
  },
  {
   "cell_type": "code",
   "execution_count": null,
   "id": "28d3ed8b",
   "metadata": {},
   "outputs": [],
   "source": [
    "#Importar librerías\n",
    "\n",
    "import pandas as pd\n",
    "import numpy as np"
   ]
  },
  {
   "cell_type": "code",
   "execution_count": null,
   "id": "41406c0b",
   "metadata": {},
   "outputs": [],
   "source": []
  }
 ],
 "metadata": {
  "kernelspec": {
   "display_name": "Python 3 (ipykernel)",
   "language": "python",
   "name": "python3"
  },
  "language_info": {
   "codemirror_mode": {
    "name": "ipython",
    "version": 3
   },
   "file_extension": ".py",
   "mimetype": "text/x-python",
   "name": "python",
   "nbconvert_exporter": "python",
   "pygments_lexer": "ipython3",
   "version": "3.10.6"
  }
 },
 "nbformat": 4,
 "nbformat_minor": 5
}
